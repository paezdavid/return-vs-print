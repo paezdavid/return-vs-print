{
 "cells": [
  {
   "attachments": {},
   "cell_type": "markdown",
   "metadata": {},
   "source": [
    "# Diferencia entre el print() y el return.\n"
   ]
  },
  {
   "cell_type": "code",
   "execution_count": 14,
   "metadata": {},
   "outputs": [
    {
     "name": "stdout",
     "output_type": "stream",
     "text": [
      "Saldo disponible: 20.000\n"
     ]
    }
   ],
   "source": [
    "# Imaginemos un cajero automático...\n",
    "\n",
    "# print() sirve para mostrar algo en pantalla. No podemos \"agarrar\" ningun valor porque print() NO nos devolvio/retorno nada. Le pedimos a un cajero que nos muestre/imprima algo en pantalla, pero NO nos devuelve nada.\n",
    "def mostrar_saldo():\n",
    "    print(\"Saldo disponible: 20.000\")\n",
    "\n",
    "mostrar_saldo() # Si intentamos almacenar esta llamada de funcion en una variable, la variable no va a \"agarrar\" nada. El \"cajero\" no me da nada para agarrar.\n",
    "\n"
   ]
  },
  {
   "attachments": {},
   "cell_type": "markdown",
   "metadata": {},
   "source": [
    "# Ejercicio 1\n",
    "1. Crear una función extraer_dinero() que tome un número (cantidad a extraer) como argumento.\n",
    "2. Retornar la cantidad a extraer\n",
    "3. Almacenar el valor retornado en una variable\n"
   ]
  },
  {
   "cell_type": "code",
   "execution_count": 12,
   "metadata": {},
   "outputs": [
    {
     "name": "stdout",
     "output_type": "stream",
     "text": [
      "4000\n"
     ]
    }
   ],
   "source": [
    "# return sirve para obtener un dato de la funciòn. Este dato puede ser utilizado posteriormente y/o almacenarse en alguna variable. Le pedimos al cajero que nos devuelva/retorne algo -- billetes -- para poder usar eso en otro lado.\n",
    "def extraer_dinero(cantidad_a_extraer):\n",
    "    return cantidad_a_extraer\n",
    "\n",
    "mi_billetera = extraer_dinero(4000) # Lo que nos devolvio el cajero (o la funcion) la podemos guardar en otro lado y usarla como queremos.\n",
    "print(mi_billetera)\n"
   ]
  },
  {
   "attachments": {},
   "cell_type": "markdown",
   "metadata": {},
   "source": [
    "# Ejercicio 2\n",
    "1. Crear una función comprar_coquita() que tome un número (dinero disponible) como argumento.\n",
    "2. Si el dinero disponible es mayor o igual a 5000, imprimir \"Disfruta tu coquita\", si es menor a 5000 imprimir \"Hendy\"."
   ]
  },
  {
   "cell_type": "code",
   "execution_count": 13,
   "metadata": {},
   "outputs": [
    {
     "name": "stdout",
     "output_type": "stream",
     "text": [
      "Hendy\n"
     ]
    }
   ],
   "source": [
    "# Ya guardamos un valor en nuestra variable billetera. Ya podemos usar como queramos el valor que nos retorno/devolvio la funcion y hacer otras cosas con ese valor! :)\n",
    "def comprar_coquita(billetera):\n",
    "    if mi_billetera >= 5000:\n",
    "        print(\"Disfruta tu coquita\")\n",
    "    else:\n",
    "        print(\"Hendy\")\n",
    "\n",
    "comprar_coquita(mi_billetera)"
   ]
  }
 ],
 "metadata": {
  "kernelspec": {
   "display_name": "Python 3",
   "language": "python",
   "name": "python3"
  },
  "language_info": {
   "codemirror_mode": {
    "name": "ipython",
    "version": 3
   },
   "file_extension": ".py",
   "mimetype": "text/x-python",
   "name": "python",
   "nbconvert_exporter": "python",
   "pygments_lexer": "ipython3",
   "version": "3.11.2"
  },
  "orig_nbformat": 4
 },
 "nbformat": 4,
 "nbformat_minor": 2
}
